{
 "cells": [
  {
   "cell_type": "code",
   "id": "initial_id",
   "metadata": {
    "collapsed": true,
    "ExecuteTime": {
     "end_time": "2025-09-24T12:11:03.543249Z",
     "start_time": "2025-09-24T12:11:03.510475Z"
    }
   },
   "source": [
    "import pandas as pd\n",
    "import FIRM.base.operators.implications as implications\n",
    "import FIRM.base.operators.tnorms as tnorms\n",
    "import FIRM.base.fuzzy_data as fuzzy_data\n",
    "from FIRM.methods.AARFI import AARFI"
   ],
   "outputs": [],
   "execution_count": 1
  },
  {
   "metadata": {
    "ExecuteTime": {
     "end_time": "2025-09-24T12:11:03.557435Z",
     "start_time": "2025-09-24T12:11:03.547784Z"
    }
   },
   "cell_type": "code",
   "source": [
    "impl_operators = [implications.ImplicationsExamples.get_fuzzy_implication(implications.ImplicationsExamples.IGNORE),\n",
    "                  implications.ImplicationsExamples.get_fuzzy_implication(implications.ImplicationsExamples.LUKASIEWICZ),\n",
    "                  lambda x, y: 1 - x + x * (y**0.1),\n",
    "                  lambda x, y: implications.ImplicationsExamples.get_fuzzy_implication(implications.ImplicationsExamples.KSS)(x, y, float(-10))]\n",
    "tnorms_operators = [tnorms.TnormsExamples.get_tnorm(tnorms.TnormsExamples.PRODUCT),\n",
    "                    tnorms.TnormsExamples.get_tnorm(tnorms.TnormsExamples.LUKASIEWICZ),\n",
    "                    lambda x, y: np.maximum(x + y - 1, 0),\n",
    "                    lambda x, y: tnorms.TnormsExamples.get_tnorm(tnorms.TnormsExamples.SCHWEIZER_SKLAR)(x, y,float(-10))]"
   ],
   "id": "b54c1ee7a27f3491",
   "outputs": [],
   "execution_count": 2
  },
  {
   "metadata": {
    "ExecuteTime": {
     "end_time": "2025-09-24T12:11:03.870024Z",
     "start_time": "2025-09-24T12:11:03.862307Z"
    }
   },
   "cell_type": "code",
   "source": [
    "def process_df(df):\n",
    "    for col in df.columns:\n",
    "        unique_values = df[col].dropna().unique()  # Get unique values, excluding NaN\n",
    "        if len(unique_values) < 15:\n",
    "            df[col] = df[col].astype('object')  # Convert to boolean\n",
    "        else:\n",
    "            df[col] = df[col].astype('float64')  # Convert to categorical for other binary cases\n",
    "    return df"
   ],
   "id": "ed60a3248249dad7",
   "outputs": [],
   "execution_count": 3
  },
  {
   "metadata": {
    "ExecuteTime": {
     "end_time": "2025-09-24T12:11:03.894923Z",
     "start_time": "2025-09-24T12:11:03.885927Z"
    }
   },
   "cell_type": "code",
   "source": "datasets = ['abalone.csv','iris.csv','wdbc.csv','magic.csv','vehicle.csv']",
   "id": "4add2d7d4a0bbf44",
   "outputs": [],
   "execution_count": 4
  },
  {
   "metadata": {
    "ExecuteTime": {
     "end_time": "2025-09-24T13:38:18.236207Z",
     "start_time": "2025-09-24T12:11:03.918841Z"
    }
   },
   "cell_type": "code",
   "source": [
    "import csv\n",
    "import pandas as pd\n",
    "import numpy as np\n",
    "\n",
    "n_datasets = len(datasets)\n",
    "n_operators = len(impl_operators)\n",
    "\n",
    "results = [[0 for _ in range(n_datasets)] for _ in range(n_operators)]\n",
    "\n",
    "# Open a CSV file to write the results\n",
    "with open('results.csv', mode='w', newline='') as file:\n",
    "    writer = csv.writer(file)\n",
    "    # Write the header\n",
    "    writer.writerow(['Operator', 'Dataset', 'Num Rules', 'Fcoverage', 'Fsupport', 'Fconfidence','FWRAcc'])\n",
    "\n",
    "    for idx_op in range(n_operators):\n",
    "        print('Operator: ' + str(idx_op))\n",
    "        I = impl_operators[idx_op]\n",
    "        T = tnorms_operators[idx_op]\n",
    "        for idx_dat in range(n_datasets):\n",
    "            print('Dataset: ' + str(datasets[idx_dat]))\n",
    "            name_dataset = datasets[idx_dat]\n",
    "            dataset = process_df(pd.read_csv('../assets/' + name_dataset, sep=','))\n",
    "            fuzzy_dataset = fuzzy_data.FuzzyDataQuantiles(name_dataset, dataset, 3, ['L', 'M', 'H'])\n",
    "            rules = AARFI(dataset, fuzzy_dataset, T, I, min_cov=0.3, min_supp=0.3, min_conf=0.8, max_feat=3)\n",
    "            measures = rules.measures(fuzzy_dataset)\n",
    "            \n",
    "            # Extract measures\n",
    "            num_rules = len(measures['num_features'])\n",
    "            fcoverage = np.mean(measures['fcoverage'])\n",
    "            fsupport = np.mean(measures['fsupport'])\n",
    "            fconfidence = np.mean(measures['fconfidence'])\n",
    "            fwracc = np.mean(measures['fwracc'])\n",
    "            \n",
    "            print('num rules: ' + str(len(measures['num_features'])))\n",
    "            print('fcoverage: ' + str(np.mean(measures['fcoverage'])))\n",
    "            print('fsupport: ' + str(np.mean(measures['fsupport'])))\n",
    "            print('fconfidence: ' + str(np.mean(measures['fconfidence'])))\n",
    "            print('fwracc: ' + str(np.mean(measures['fwracc'])))\n",
    "            \n",
    "            # Write the results to the CSV file\n",
    "            writer.writerow([idx_op, name_dataset, num_rules, fcoverage, fsupport, fconfidence,fwracc])\n",
    "            \n",
    "            # Store the rule list in the results matrix\n",
    "            results[idx_op][idx_dat] = rules.rule_list\n",
    "\n",
    "print(\"Results have been saved to 'results.csv'\")"
   ],
   "id": "1c5ad8b6e157ff6d",
   "outputs": [
    {
     "name": "stdout",
     "output_type": "stream",
     "text": [
      "Operator: 0\n",
      "Dataset: abalone.csv\n",
      "num rules: 101\n",
      "fcoverage: 0.3583913673248563\n",
      "fsupport: 0.3122656561869071\n",
      "fconfidence: 0.8736697414620543\n",
      "fwracc: 0.1777652859914854\n",
      "Dataset: iris.csv\n",
      "num rules: 17\n",
      "fcoverage: 0.35057424666836434\n",
      "fsupport: 0.32078553603259485\n",
      "fconfidence: 0.9178793569567691\n",
      "fwracc: 0.1967642859972272\n",
      "Dataset: wdbc.csv\n",
      "num rules: 342\n",
      "fcoverage: 0.3502619435547756\n",
      "fsupport: 0.31752349741179076\n",
      "fconfidence: 0.9090910597895252\n",
      "fwracc: 0.1679303469374531\n",
      "Dataset: magic.csv\n",
      "num rules: 7\n",
      "fcoverage: 0.37447973216803815\n",
      "fsupport: 0.3213478144912463\n",
      "fconfidence: 0.8579584731072055\n",
      "fwracc: 0.1667096775570054\n",
      "Dataset: vehicle.csv\n",
      "num rules: 56\n",
      "fcoverage: 0.354104989108177\n",
      "fsupport: 0.3116767045548163\n",
      "fconfidence: 0.8823700414067849\n",
      "fwracc: 0.18191246301419822\n",
      "Operator: 1\n",
      "Dataset: abalone.csv\n",
      "num rules: 117\n",
      "fcoverage: 0.35397371504200564\n",
      "fsupport: 0.3232241562667468\n",
      "fconfidence: 0.9171329851432778\n",
      "fwracc: 0.19032041544496398\n",
      "Dataset: iris.csv\n",
      "num rules: 19\n",
      "fcoverage: 0.35353899901268315\n",
      "fsupport: 0.32361600972127286\n",
      "fconfidence: 0.9185554948717503\n",
      "fwracc: 0.1974348085702472\n",
      "Dataset: wdbc.csv\n",
      "num rules: 349\n",
      "fcoverage: 0.34925647205281535\n",
      "fsupport: 0.32621616540642573\n",
      "fconfidence: 0.9375538985743239\n",
      "fwracc: 0.18421900280162698\n",
      "Dataset: magic.csv\n",
      "num rules: 13\n",
      "fcoverage: 0.3729808423438341\n",
      "fsupport: 0.3253780213373554\n",
      "fconfidence: 0.8724009942470532\n",
      "fwracc: 0.1775794563749697\n",
      "Dataset: vehicle.csv\n",
      "num rules: 70\n",
      "fcoverage: 0.3559878012159485\n",
      "fsupport: 0.32360085337878625\n",
      "fconfidence: 0.912133809018402\n",
      "fwracc: 0.19261413980542438\n",
      "Operator: 2\n",
      "Dataset: abalone.csv\n",
      "num rules: 145\n",
      "fcoverage: 0.34665513801042264\n",
      "fsupport: 0.3319787112179283\n",
      "fconfidence: 0.9601912959874312\n",
      "fwracc: 0.20194261602002767\n",
      "Dataset: iris.csv\n",
      "num rules: 32\n",
      "fcoverage: 0.3474980158730159\n",
      "fsupport: 0.3288789851360614\n",
      "fconfidence: 0.9486429302323532\n",
      "fwracc: 0.20546149170973468\n",
      "Dataset: wdbc.csv\n",
      "num rules: 574\n",
      "fcoverage: 0.3555845001720316\n",
      "fsupport: 0.327534108821472\n",
      "fconfidence: 0.9242319968969739\n",
      "fwracc: 0.1876419289603762\n",
      "Dataset: magic.csv\n",
      "num rules: 41\n",
      "fcoverage: 0.3710505530574514\n",
      "fsupport: 0.3305198568955482\n",
      "fconfidence: 0.8908047629821064\n",
      "fwracc: 0.1903849845902397\n",
      "Dataset: vehicle.csv\n",
      "num rules: 149\n",
      "fcoverage: 0.3610831640559191\n",
      "fsupport: 0.32710284849312354\n",
      "fconfidence: 0.9076775660362273\n",
      "fwracc: 0.19483986310957713\n",
      "Operator: 3\n",
      "Dataset: abalone.csv\n",
      "num rules: 309\n",
      "fcoverage: 0.3426440843142841\n",
      "fsupport: 0.3203092743660275\n",
      "fconfidence: 0.9369674897140798\n",
      "fwracc: 0.19187023940429104\n",
      "Dataset: iris.csv\n",
      "num rules: 19\n",
      "fcoverage: 0.35442757818812337\n",
      "fsupport: 0.32349693471897756\n",
      "fconfidence: 0.9156217894659426\n",
      "fwracc: 0.19701954050947176\n",
      "Dataset: wdbc.csv\n",
      "num rules: 563\n",
      "fcoverage: 0.3528261307391391\n",
      "fsupport: 0.3338441194990189\n",
      "fconfidence: 0.9479610241048647\n",
      "fwracc: 0.19105895821021224\n",
      "Dataset: magic.csv\n",
      "num rules: 16\n",
      "fcoverage: 0.3644094733259754\n",
      "fsupport: 0.3206937263184927\n",
      "fconfidence: 0.8817547133472321\n",
      "fwracc: 0.17774808904402825\n",
      "Dataset: vehicle.csv\n",
      "num rules: 126\n",
      "fcoverage: 0.3473214101372941\n",
      "fsupport: 0.32281180286510186\n",
      "fconfidence: 0.9323051264916831\n",
      "fwracc: 0.19579958854369636\n",
      "Results have been saved to 'results.csv'\n"
     ]
    }
   ],
   "execution_count": 5
  },
  {
   "metadata": {
    "ExecuteTime": {
     "end_time": "2025-09-24T13:38:18.294708Z",
     "start_time": "2025-09-24T13:38:18.283886Z"
    }
   },
   "cell_type": "code",
   "source": "from FIRM.base.ct_set_fuzzy_rules import SetFuzzyRules",
   "id": "7f6306b717527a5",
   "outputs": [],
   "execution_count": 6
  },
  {
   "metadata": {
    "ExecuteTime": {
     "end_time": "2025-09-24T13:38:18.614948Z",
     "start_time": "2025-09-24T13:38:18.591392Z"
    }
   },
   "cell_type": "code",
   "source": [
    "M = np.ones((n_operators, n_operators))\n",
    "for i in range(0, n_operators):\n",
    "    for j in range(i + 1, n_operators):\n",
    "        diss_perc = []\n",
    "        for d in range(0, n_datasets):\n",
    "            rules1 = SetFuzzyRules(results[i][d][:]) \n",
    "            rules2 = SetFuzzyRules(results[j][d][:])\n",
    "            diss_perc = diss_perc + [rules1.jaccard_similarity(rules2)]\n",
    "        M[i][j] = round(np.mean(diss_perc),3)"
   ],
   "id": "e9518754a80a49a0",
   "outputs": [],
   "execution_count": 7
  },
  {
   "metadata": {
    "ExecuteTime": {
     "end_time": "2025-09-24T13:38:19.097082Z",
     "start_time": "2025-09-24T13:38:18.655680Z"
    }
   },
   "cell_type": "code",
   "source": [
    "import seaborn as sns\n",
    "import matplotlib.pyplot as plt\n",
    "import pandas as pd\n",
    "import numpy as np\n",
    "\n",
    "# Data from the table\n",
    "data = {\n",
    "    \"(TP,IY)\": M[0],\n",
    "    \"(TLK,ILK)\": M[1],\n",
    "    \"(TP,ICλH)\": M[2],\n",
    "    \"(TSSλ,ISSλ)\": M[3]\n",
    "}\n",
    "\n",
    "# Row labels\n",
    "index = [\"(TP,IY)\", \"(TLK,ILK)\", \"(TP,ICλH)\", \"(TSSλ,ISSλ)\"]\n",
    "\n",
    "# Create a DataFrame\n",
    "df = pd.DataFrame(data, index=index)\n",
    "\n",
    "# Mask the upper triangle to show only non-redundant values\n",
    "mask = np.triu(np.ones_like(df, dtype=bool), k=1)\n",
    "\n",
    "# Plot the heatmap\n",
    "plt.figure(figsize=(8, 6))\n",
    "sns.heatmap(\n",
    "    df,\n",
    "    annot=True,\n",
    "    cmap=\"coolwarm\",  # Brighter colormap (options: \"viridis\", \"plasma\", \"magma\", \"inferno\")\n",
    "    fmt=\".2f\",  # Display two decimal places\n",
    "    linewidths=0.5,\n",
    "    mask=mask,  # Apply the mask to hide the upper triangle\n",
    "    cbar_kws={\"shrink\": 0.8}\n",
    ")\n",
    "\n",
    "# Show the plot\n",
    "plt.tight_layout()\n",
    "plt.show()"
   ],
   "id": "b22f229ddb38d268",
   "outputs": [
    {
     "data": {
      "text/plain": [
       "<Figure size 800x600 with 2 Axes>"
      ],
      "image/png": "[encoded data removed]"
     },
     "metadata": {},
     "output_type": "display_data"
    }
   ],
   "execution_count": 8
  }
 ],
 "metadata": {
  "kernelspec": {
   "display_name": "Python 3",
   "language": "python",
   "name": "python3"
  },
  "language_info": {
   "codemirror_mode": {
    "name": "ipython",
    "version": 2
   },
   "file_extension": ".py",
   "mimetype": "text/x-python",
   "name": "python",
   "nbconvert_exporter": "python",
   "pygments_lexer": "ipython2",
   "version": "2.7.6"
  }
 },
 "nbformat": 4,
 "nbformat_minor": 5
}
