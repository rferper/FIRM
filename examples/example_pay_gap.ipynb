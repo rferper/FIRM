{
 "cells": [
  {
   "cell_type": "code",
   "id": "initial_id",
   "metadata": {
    "collapsed": true,
    "ExecuteTime": {
     "end_time": "2025-09-10T11:58:15.945956Z",
     "start_time": "2025-09-10T11:58:15.884569Z"
    }
   },
   "source": [
    "import pandas as pd\n",
    "import numpy as np\n",
    "import FIRM.base.operators.implications as implications\n",
    "import FIRM.base.operators.tnorms as tnorms\n",
    "import FIRM.base.fuzzy_data as fuzzy_data\n",
    "from FIRM.methods.AARFI import AARFI"
   ],
   "outputs": [],
   "execution_count": 1
  },
  {
   "metadata": {
    "ExecuteTime": {
     "end_time": "2025-09-10T11:58:15.987989Z",
     "start_time": "2025-09-10T11:58:15.962490Z"
    }
   },
   "cell_type": "code",
   "source": [
    "name_dataset = 'name'\n",
    "dataset = pd.read_csv('../assets/pay_gap.csv')\n",
    "dataset"
   ],
   "id": "fb0b0e585b4cde2",
   "outputs": [
    {
     "data": {
      "text/plain": [
       "                JobTitle  Gender  Age  PerfEval    Education            Dept  \\\n",
       "0       Graphic Designer  Female   18         5      College      Operations   \n",
       "1      Software Engineer    Male   21         5      College      Management   \n",
       "2    Warehouse Associate  Female   19         4          PhD  Administration   \n",
       "3      Software Engineer    Male   20         5      Masters           Sales   \n",
       "4       Graphic Designer    Male   26         5      Masters     Engineering   \n",
       "..                   ...     ...  ...       ...          ...             ...   \n",
       "995  Marketing Associate  Female   61         1  High School  Administration   \n",
       "996       Data Scientist    Male   57         1      Masters           Sales   \n",
       "997    Financial Analyst    Male   48         1  High School      Operations   \n",
       "998    Financial Analyst    Male   65         2  High School  Administration   \n",
       "999    Financial Analyst    Male   60         1          PhD           Sales   \n",
       "\n",
       "     Seniority  BasePay  Bonus  \n",
       "0            2    42363   9938  \n",
       "1            5   108476  11128  \n",
       "2            5    90208   9268  \n",
       "3            4   108080  10154  \n",
       "4            5    99464   9319  \n",
       "..         ...      ...    ...  \n",
       "995          1    62644   3270  \n",
       "996          2   108977   3567  \n",
       "997          1    92347   2724  \n",
       "998          1    97376   2225  \n",
       "999          2   123108   2244  \n",
       "\n",
       "[1000 rows x 9 columns]"
      ],
      "text/html": [
       "<div>\n",
       "<style scoped>\n",
       "    .dataframe tbody tr th:only-of-type {\n",
       "        vertical-align: middle;\n",
       "    }\n",
       "\n",
       "    .dataframe tbody tr th {\n",
       "        vertical-align: top;\n",
       "    }\n",
       "\n",
       "    .dataframe thead th {\n",
       "        text-align: right;\n",
       "    }\n",
       "</style>\n",
       "<table border=\"1\" class=\"dataframe\">\n",
       "  <thead>\n",
       "    <tr style=\"text-align: right;\">\n",
       "      <th></th>\n",
       "      <th>JobTitle</th>\n",
       "      <th>Gender</th>\n",
       "      <th>Age</th>\n",
       "      <th>PerfEval</th>\n",
       "      <th>Education</th>\n",
       "      <th>Dept</th>\n",
       "      <th>Seniority</th>\n",
       "      <th>BasePay</th>\n",
       "      <th>Bonus</th>\n",
       "    </tr>\n",
       "  </thead>\n",
       "  <tbody>\n",
       "    <tr>\n",
       "      <th>0</th>\n",
       "      <td>Graphic Designer</td>\n",
       "      <td>Female</td>\n",
       "      <td>18</td>\n",
       "      <td>5</td>\n",
       "      <td>College</td>\n",
       "      <td>Operations</td>\n",
       "      <td>2</td>\n",
       "      <td>42363</td>\n",
       "      <td>9938</td>\n",
       "    </tr>\n",
       "    <tr>\n",
       "      <th>1</th>\n",
       "      <td>Software Engineer</td>\n",
       "      <td>Male</td>\n",
       "      <td>21</td>\n",
       "      <td>5</td>\n",
       "      <td>College</td>\n",
       "      <td>Management</td>\n",
       "      <td>5</td>\n",
       "      <td>108476</td>\n",
       "      <td>11128</td>\n",
       "    </tr>\n",
       "    <tr>\n",
       "      <th>2</th>\n",
       "      <td>Warehouse Associate</td>\n",
       "      <td>Female</td>\n",
       "      <td>19</td>\n",
       "      <td>4</td>\n",
       "      <td>PhD</td>\n",
       "      <td>Administration</td>\n",
       "      <td>5</td>\n",
       "      <td>90208</td>\n",
       "      <td>9268</td>\n",
       "    </tr>\n",
       "    <tr>\n",
       "      <th>3</th>\n",
       "      <td>Software Engineer</td>\n",
       "      <td>Male</td>\n",
       "      <td>20</td>\n",
       "      <td>5</td>\n",
       "      <td>Masters</td>\n",
       "      <td>Sales</td>\n",
       "      <td>4</td>\n",
       "      <td>108080</td>\n",
       "      <td>10154</td>\n",
       "    </tr>\n",
       "    <tr>\n",
       "      <th>4</th>\n",
       "      <td>Graphic Designer</td>\n",
       "      <td>Male</td>\n",
       "      <td>26</td>\n",
       "      <td>5</td>\n",
       "      <td>Masters</td>\n",
       "      <td>Engineering</td>\n",
       "      <td>5</td>\n",
       "      <td>99464</td>\n",
       "      <td>9319</td>\n",
       "    </tr>\n",
       "    <tr>\n",
       "      <th>...</th>\n",
       "      <td>...</td>\n",
       "      <td>...</td>\n",
       "      <td>...</td>\n",
       "      <td>...</td>\n",
       "      <td>...</td>\n",
       "      <td>...</td>\n",
       "      <td>...</td>\n",
       "      <td>...</td>\n",
       "      <td>...</td>\n",
       "    </tr>\n",
       "    <tr>\n",
       "      <th>995</th>\n",
       "      <td>Marketing Associate</td>\n",
       "      <td>Female</td>\n",
       "      <td>61</td>\n",
       "      <td>1</td>\n",
       "      <td>High School</td>\n",
       "      <td>Administration</td>\n",
       "      <td>1</td>\n",
       "      <td>62644</td>\n",
       "      <td>3270</td>\n",
       "    </tr>\n",
       "    <tr>\n",
       "      <th>996</th>\n",
       "      <td>Data Scientist</td>\n",
       "      <td>Male</td>\n",
       "      <td>57</td>\n",
       "      <td>1</td>\n",
       "      <td>Masters</td>\n",
       "      <td>Sales</td>\n",
       "      <td>2</td>\n",
       "      <td>108977</td>\n",
       "      <td>3567</td>\n",
       "    </tr>\n",
       "    <tr>\n",
       "      <th>997</th>\n",
       "      <td>Financial Analyst</td>\n",
       "      <td>Male</td>\n",
       "      <td>48</td>\n",
       "      <td>1</td>\n",
       "      <td>High School</td>\n",
       "      <td>Operations</td>\n",
       "      <td>1</td>\n",
       "      <td>92347</td>\n",
       "      <td>2724</td>\n",
       "    </tr>\n",
       "    <tr>\n",
       "      <th>998</th>\n",
       "      <td>Financial Analyst</td>\n",
       "      <td>Male</td>\n",
       "      <td>65</td>\n",
       "      <td>2</td>\n",
       "      <td>High School</td>\n",
       "      <td>Administration</td>\n",
       "      <td>1</td>\n",
       "      <td>97376</td>\n",
       "      <td>2225</td>\n",
       "    </tr>\n",
       "    <tr>\n",
       "      <th>999</th>\n",
       "      <td>Financial Analyst</td>\n",
       "      <td>Male</td>\n",
       "      <td>60</td>\n",
       "      <td>1</td>\n",
       "      <td>PhD</td>\n",
       "      <td>Sales</td>\n",
       "      <td>2</td>\n",
       "      <td>123108</td>\n",
       "      <td>2244</td>\n",
       "    </tr>\n",
       "  </tbody>\n",
       "</table>\n",
       "<p>1000 rows × 9 columns</p>\n",
       "</div>"
      ]
     },
     "execution_count": 2,
     "metadata": {},
     "output_type": "execute_result"
    }
   ],
   "execution_count": 2
  },
  {
   "metadata": {
    "ExecuteTime": {
     "end_time": "2025-09-10T11:58:16.673836Z",
     "start_time": "2025-09-10T11:58:16.667026Z"
    }
   },
   "cell_type": "code",
   "source": "fuzzy_dataset = fuzzy_data.FuzzyDataQuantiles(name_dataset,dataset, 3, ['L', 'M', 'H'])",
   "id": "cfc96c19ab61aaef",
   "outputs": [],
   "execution_count": 3
  },
  {
   "metadata": {
    "ExecuteTime": {
     "end_time": "2025-09-10T11:58:18.259214Z",
     "start_time": "2025-09-10T11:58:16.718889Z"
    }
   },
   "cell_type": "code",
   "source": [
    "I = implications.ImplicationsExamples.get_fuzzy_implication(implications.ImplicationsExamples.GODEL)\n",
    "T = tnorms.TnormsExamples.get_tnorm(tnorms.TnormsExamples.PRODUCT)\n",
    "\n",
    "rules = AARFI(dataset, fuzzy_dataset, T, I, min_cov=0.1, min_supp=0.1, min_conf=0.5, max_feat=3)\n",
    "measures = rules.measures(fuzzy_dataset)\n",
    "\n",
    "# Extract measures\n",
    "num_rules = len(measures['num_features'])\n",
    "fcoverage = np.mean(measures['fcoverage'])\n",
    "fsupport = np.mean(measures['fsupport'])\n",
    "fconfidence = np.mean(measures['fconfidence'])\n",
    "fwracc = np.mean(measures['fwracc'])\n",
    "\n",
    "print('num rules: ' + str(len(measures['num_features'])))\n",
    "print('fcoverage: ' + str(np.mean(measures['fcoverage'])))\n",
    "print('fsupport: ' + str(np.mean(measures['fsupport'])))\n",
    "print('fconfidence: ' + str(np.mean(measures['fconfidence'])))\n",
    "print('fwracc: ' + str(np.mean(measures['fwracc'])))\n",
    "\n",
    "for rule in rules.rule_list:\n",
    "    print(rule.sentence_rule(fuzzy_dataset))"
   ],
   "id": "69a96ee7df33fb43",
   "outputs": [
    {
     "name": "stdout",
     "output_type": "stream",
     "text": [
      "num rules: 2\n",
      "fcoverage: 0.11349999999999999\n",
      "fsupport: 0.10400000000000001\n",
      "fconfidence: 0.9166925828020526\n",
      "fwracc: 0.047394000000000006\n",
      "IF ( JobTitle IS Marketing Associate ) THEN Gender IS Female\n",
      "IF ( JobTitle IS Software Engineer ) THEN Gender IS Male\n"
     ]
    }
   ],
   "execution_count": 4
  },
  {
   "metadata": {
    "ExecuteTime": {
     "end_time": "2025-09-10T11:58:18.701443Z",
     "start_time": "2025-09-10T11:58:18.269661Z"
    }
   },
   "cell_type": "code",
   "source": [
    "from FIRM.methods.SDFIOE import SDFIOE  \n",
    "set_rules,rule_list = SDFIOE(dataset, fuzzy_dataset,1, T, I,K=10, max_features=5, min_support=0.001)"
   ],
   "id": "f67d7c466b955844",
   "outputs": [
    {
     "name": "stderr",
     "output_type": "stream",
     "text": [
      "\u001B[38;2;255;0;0m  0%\u001B[39m (00/164 rules considered)|           |Elapsed Time: 0:00:00~ETA:  --:--:--\n"
     ]
    },
    {
     "name": "stdout",
     "output_type": "stream",
     "text": [
      "FAIL\n"
     ]
    }
   ],
   "execution_count": 5
  },
  {
   "metadata": {
    "ExecuteTime": {
     "end_time": "2025-09-10T11:58:18.719758Z",
     "start_time": "2025-09-10T11:58:18.714229Z"
    }
   },
   "cell_type": "code",
   "source": "rule_list",
   "id": "6146d7fc8b891005",
   "outputs": [
    {
     "data": {
      "text/plain": [
       "[0, 0, 0, 0, -1]"
      ]
     },
     "execution_count": 6,
     "metadata": {},
     "output_type": "execute_result"
    }
   ],
   "execution_count": 6
  }
 ],
 "metadata": {
  "kernelspec": {
   "display_name": "Python 3",
   "language": "python",
   "name": "python3"
  },
  "language_info": {
   "codemirror_mode": {
    "name": "ipython",
    "version": 2
   },
   "file_extension": ".py",
   "mimetype": "text/x-python",
   "name": "python",
   "nbconvert_exporter": "python",
   "pygments_lexer": "ipython2",
   "version": "2.7.6"
  }
 },
 "nbformat": 4,
 "nbformat_minor": 5
}
