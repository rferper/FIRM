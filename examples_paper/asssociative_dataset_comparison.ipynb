{
 "cells": [
  {
   "cell_type": "code",
   "id": "initial_id",
   "metadata": {
    "collapsed": true,
    "ExecuteTime": {
     "end_time": "2025-10-01T14:05:49.755442Z",
     "start_time": "2025-10-01T14:05:49.749336Z"
    }
   },
   "source": [
    "import pandas as pd\n",
    "import FIRM.base.operators.implications as implications\n",
    "import FIRM.base.operators.tnorms as tnorms\n",
    "import FIRM.base.fuzzy_data as fuzzy_data\n",
    "from FIRM.methods.AARFI import AARFI"
   ],
   "outputs": [],
   "execution_count": 14
  },
  {
   "metadata": {
    "ExecuteTime": {
     "end_time": "2025-10-01T14:05:49.798476Z",
     "start_time": "2025-10-01T14:05:49.789206Z"
    }
   },
   "cell_type": "code",
   "source": [
    "impl_operators = [implications.ImplicationsExamples.get_fuzzy_implication(implications.ImplicationsExamples.IGNORE),\n",
    "                  implications.ImplicationsExamples.get_fuzzy_implication(implications.ImplicationsExamples.LUKASIEWICZ),\n",
    "                  lambda x, y: 1 - x + x * (y**0.01),\n",
    "                  lambda x, y: implications.ImplicationsExamples.get_fuzzy_implication(implications.ImplicationsExamples.KSS)(x, y, float(-10))]\n",
    "tnorms_operators = [tnorms.TnormsExamples.get_tnorm(tnorms.TnormsExamples.PRODUCT),\n",
    "                    tnorms.TnormsExamples.get_tnorm(tnorms.TnormsExamples.LUKASIEWICZ),\n",
    "                    lambda x, y: np.maximum(x + y - 1, 0),\n",
    "                    lambda x, y: tnorms.TnormsExamples.get_tnorm(tnorms.TnormsExamples.SCHWEIZER_SKLAR)(x, y,float(-10))]"
   ],
   "id": "b54c1ee7a27f3491",
   "outputs": [],
   "execution_count": 15
  },
  {
   "metadata": {
    "ExecuteTime": {
     "end_time": "2025-10-01T14:05:49.829313Z",
     "start_time": "2025-10-01T14:05:49.818244Z"
    }
   },
   "cell_type": "code",
   "source": [
    "import pandas as pd\n",
    "\n",
    "def process_df(df: pd.DataFrame) -> pd.DataFrame:\n",
    "    \"\"\"\n",
    "    - Integer dtypes -> float64\n",
    "    - For object/string/categorical columns:\n",
    "        * If unique non-null values <= 15: keep as object\n",
    "        * If unique non-null values > 15: keep top 15, others -> \"Unknown\"\n",
    "    - Other dtypes left unchanged\n",
    "    \"\"\"\n",
    "    out = df.copy()\n",
    "\n",
    "    for col in out.columns:\n",
    "        s = out[col]\n",
    "\n",
    "        # 1) Integers -> float64\n",
    "        if pd.api.types.is_integer_dtype(s):\n",
    "            out[col] = s.astype(\"float64\")\n",
    "            continue\n",
    "\n",
    "        # 2) Non-numeric categoricals/strings\n",
    "        is_cat_like = (\n",
    "            pd.api.types.is_object_dtype(s)\n",
    "            or isinstance(s.dtype, pd.CategoricalDtype)\n",
    "            or pd.api.types.is_string_dtype(s)\n",
    "        )\n",
    "        if is_cat_like:\n",
    "            n_unique = s.nunique(dropna=True)\n",
    "            if n_unique > 10:\n",
    "                top15 = s.value_counts(dropna=True).index[:10]\n",
    "                out[col] = s.where(s.isna() | s.isin(top15), \"Unknown\").astype(\"object\")\n",
    "            else:\n",
    "                out[col] = s.astype(\"object\")\n",
    "\n",
    "    return out"
   ],
   "id": "ed60a3248249dad7",
   "outputs": [],
   "execution_count": 16
  },
  {
   "metadata": {
    "ExecuteTime": {
     "end_time": "2025-10-01T14:05:49.860257Z",
     "start_time": "2025-10-01T14:05:49.853650Z"
    }
   },
   "cell_type": "code",
   "source": "datasets = ['online_news.csv','calhousing.csv','abalone.csv','iris.csv','wdbc.csv','magic.csv','vehicle.csv']",
   "id": "4add2d7d4a0bbf44",
   "outputs": [],
   "execution_count": 17
  },
  {
   "metadata": {
    "ExecuteTime": {
     "end_time": "2025-10-01T14:06:01.272493Z",
     "start_time": "2025-10-01T14:05:49.887483Z"
    }
   },
   "cell_type": "code",
   "source": [
    "import csv\n",
    "import pandas as pd\n",
    "import numpy as np\n",
    "\n",
    "n_datasets = len(datasets)\n",
    "n_operators = len(impl_operators)\n",
    "\n",
    "results = [[0 for _ in range(n_datasets)] for _ in range(n_operators)]\n",
    "\n",
    "# Open a CSV file to write the results\n",
    "with open('results.csv', mode='w', newline='') as file:\n",
    "    writer = csv.writer(file)\n",
    "    # Write the header\n",
    "    writer.writerow(['Operator', 'Dataset', 'Num Rules', 'Fcoverage', 'Fsupport', 'Fconfidence','FWRAcc'])\n",
    "\n",
    "    for idx_op in range(n_operators):\n",
    "        print('Operator: ' + str(idx_op))\n",
    "        I = impl_operators[idx_op]\n",
    "        T = tnorms_operators[idx_op]\n",
    "        for idx_dat in range(n_datasets):\n",
    "            print('Dataset: ' + str(datasets[idx_dat]))\n",
    "            name_dataset = datasets[idx_dat]\n",
    "            dataset = process_df(pd.read_csv('../assets/' + name_dataset, sep=','))\n",
    "            fuzzy_dataset = fuzzy_data.FuzzyDataQuantiles(name_dataset, dataset, 3, ['L', 'M', 'H'])\n",
    "            rules = AARFI(dataset, fuzzy_dataset, T, I, min_cov=0.2, min_supp=0.2, min_conf=0.8, max_feat=3)\n",
    "            measures = rules.measures(fuzzy_dataset)\n",
    "            \n",
    "            # Extract measures\n",
    "            num_rules = len(measures['num_features'])\n",
    "            fcoverage = np.mean(measures['fcoverage'])\n",
    "            fsupport = np.mean(measures['fsupport'])\n",
    "            fconfidence = np.mean(measures['fconfidence'])\n",
    "            fwracc = np.mean(measures['fwracc'])\n",
    "            \n",
    "            print('num rules: ' + str(len(measures['num_features'])))\n",
    "            print('fcoverage: ' + str(np.mean(measures['fcoverage'])))\n",
    "            print('fsupport: ' + str(np.mean(measures['fsupport'])))\n",
    "            print('fconfidence: ' + str(np.mean(measures['fconfidence'])))\n",
    "            print('fwracc: ' + str(np.mean(measures['fwracc'])))\n",
    "            \n",
    "            # Write the results to the CSV file\n",
    "            writer.writerow([idx_op, name_dataset, num_rules, fcoverage, fsupport, fconfidence,fwracc])\n",
    "            \n",
    "            # Store the rule list in the results matrix\n",
    "            results[idx_op][idx_dat] = rules.rule_list\n",
    "\n",
    "print(\"Results have been saved to 'results.csv'\")"
   ],
   "id": "1c5ad8b6e157ff6d",
   "outputs": [
    {
     "name": "stdout",
     "output_type": "stream",
     "text": [
      "Operator: 0\n",
      "Dataset: online_news.csv\n"
     ]
    },
    {
     "ename": "KeyboardInterrupt",
     "evalue": "",
     "output_type": "error",
     "traceback": [
      "\u001B[1;31m---------------------------------------------------------------------------\u001B[0m",
      "\u001B[1;31mKeyboardInterrupt\u001B[0m                         Traceback (most recent call last)",
      "Cell \u001B[1;32mIn[18], line 25\u001B[0m\n\u001B[0;32m     23\u001B[0m dataset \u001B[38;5;241m=\u001B[39m process_df(pd\u001B[38;5;241m.\u001B[39mread_csv(\u001B[38;5;124m'\u001B[39m\u001B[38;5;124m../assets/\u001B[39m\u001B[38;5;124m'\u001B[39m \u001B[38;5;241m+\u001B[39m name_dataset, sep\u001B[38;5;241m=\u001B[39m\u001B[38;5;124m'\u001B[39m\u001B[38;5;124m,\u001B[39m\u001B[38;5;124m'\u001B[39m))\n\u001B[0;32m     24\u001B[0m fuzzy_dataset \u001B[38;5;241m=\u001B[39m fuzzy_data\u001B[38;5;241m.\u001B[39mFuzzyDataQuantiles(name_dataset, dataset, \u001B[38;5;241m3\u001B[39m, [\u001B[38;5;124m'\u001B[39m\u001B[38;5;124mL\u001B[39m\u001B[38;5;124m'\u001B[39m, \u001B[38;5;124m'\u001B[39m\u001B[38;5;124mM\u001B[39m\u001B[38;5;124m'\u001B[39m, \u001B[38;5;124m'\u001B[39m\u001B[38;5;124mH\u001B[39m\u001B[38;5;124m'\u001B[39m])\n\u001B[1;32m---> 25\u001B[0m rules \u001B[38;5;241m=\u001B[39m \u001B[43mAARFI\u001B[49m\u001B[43m(\u001B[49m\u001B[43mdataset\u001B[49m\u001B[43m,\u001B[49m\u001B[43m \u001B[49m\u001B[43mfuzzy_dataset\u001B[49m\u001B[43m,\u001B[49m\u001B[43m \u001B[49m\u001B[43mT\u001B[49m\u001B[43m,\u001B[49m\u001B[43m \u001B[49m\u001B[43mI\u001B[49m\u001B[43m,\u001B[49m\u001B[43m \u001B[49m\u001B[43mmin_cov\u001B[49m\u001B[38;5;241;43m=\u001B[39;49m\u001B[38;5;241;43m0.2\u001B[39;49m\u001B[43m,\u001B[49m\u001B[43m \u001B[49m\u001B[43mmin_supp\u001B[49m\u001B[38;5;241;43m=\u001B[39;49m\u001B[38;5;241;43m0.2\u001B[39;49m\u001B[43m,\u001B[49m\u001B[43m \u001B[49m\u001B[43mmin_conf\u001B[49m\u001B[38;5;241;43m=\u001B[39;49m\u001B[38;5;241;43m0.8\u001B[39;49m\u001B[43m,\u001B[49m\u001B[43m \u001B[49m\u001B[43mmax_feat\u001B[49m\u001B[38;5;241;43m=\u001B[39;49m\u001B[38;5;241;43m3\u001B[39;49m\u001B[43m)\u001B[49m\n\u001B[0;32m     26\u001B[0m measures \u001B[38;5;241m=\u001B[39m rules\u001B[38;5;241m.\u001B[39mmeasures(fuzzy_dataset)\n\u001B[0;32m     28\u001B[0m \u001B[38;5;66;03m# Extract measures\u001B[39;00m\n",
      "File \u001B[1;32m~\\PycharmProjects\\FIRM\\FIRM\\methods\\AARFI.py:170\u001B[0m, in \u001B[0;36mAARFI\u001B[1;34m(dataset, fuzzy_dataset, T, I, min_cov, min_supp, min_conf, max_feat)\u001B[0m\n\u001B[0;32m    167\u001B[0m vI \u001B[38;5;241m=\u001B[39m _vectorize_binary(I)\n\u001B[0;32m    169\u001B[0m \u001B[38;5;66;03m# Mine antecedent candidates and get their vectors\u001B[39;00m\n\u001B[1;32m--> 170\u001B[0m ant_candidates, ant_vecs \u001B[38;5;241m=\u001B[39m \u001B[43mapriori\u001B[49m\u001B[43m(\u001B[49m\u001B[43mdataset\u001B[49m\u001B[43m,\u001B[49m\u001B[43m \u001B[49m\u001B[43mfuzzy_dataset\u001B[49m\u001B[43m,\u001B[49m\u001B[43m \u001B[49m\u001B[43mT\u001B[49m\u001B[43m,\u001B[49m\u001B[43m \u001B[49m\u001B[43mmin_cov\u001B[49m\u001B[43m,\u001B[49m\u001B[43m \u001B[49m\u001B[43mmax_feat\u001B[49m\u001B[43m)\u001B[49m\n\u001B[0;32m    172\u001B[0m \u001B[38;5;66;03m# Precompute all singleton consequents' vectors once\u001B[39;00m\n\u001B[0;32m    173\u001B[0m singleton_mu \u001B[38;5;241m=\u001B[39m _precompute_singleton_memberships(dataset, fuzzy_dataset)\n",
      "File \u001B[1;32m~\\PycharmProjects\\FIRM\\FIRM\\methods\\AARFI.py:147\u001B[0m, in \u001B[0;36mapriori\u001B[1;34m(dataset, fuzzy_dataset, T, min_cov, max_feat)\u001B[0m\n\u001B[0;32m    144\u001B[0m k \u001B[38;5;241m=\u001B[39m \u001B[38;5;241m2\u001B[39m\n\u001B[0;32m    145\u001B[0m \u001B[38;5;28;01mwhile\u001B[39;00m Lk \u001B[38;5;129;01mand\u001B[39;00m k \u001B[38;5;241m<\u001B[39m\u001B[38;5;241m=\u001B[39m max_feat:\n\u001B[0;32m    146\u001B[0m     \u001B[38;5;66;03m# Ck\u001B[39;00m\n\u001B[1;32m--> 147\u001B[0m     Ck \u001B[38;5;241m=\u001B[39m \u001B[43mgenerate_nitemsets\u001B[49m\u001B[43m(\u001B[49m\u001B[43mLk\u001B[49m\u001B[43m)\u001B[49m\n\u001B[0;32m    148\u001B[0m     Ck \u001B[38;5;241m=\u001B[39m eliminate_by_apriori_property(Ck, \u001B[38;5;28mset\u001B[39m(Lk))\n\u001B[0;32m    150\u001B[0m     \u001B[38;5;66;03m# evaluate Ck using cached singletons (reduce by T)\u001B[39;00m\n",
      "File \u001B[1;32m~\\PycharmProjects\\FIRM\\FIRM\\methods\\AARFI.py:100\u001B[0m, in \u001B[0;36mgenerate_nitemsets\u001B[1;34m(prev_level)\u001B[0m\n\u001B[0;32m     98\u001B[0m a, b \u001B[38;5;241m=\u001B[39m L[i], L[j]\n\u001B[0;32m     99\u001B[0m \u001B[38;5;66;03m# join if first k-2 items equal\u001B[39;00m\n\u001B[1;32m--> 100\u001B[0m \u001B[38;5;28;01mif\u001B[39;00m a[:\u001B[38;5;241m-\u001B[39m\u001B[38;5;241m1\u001B[39m] \u001B[38;5;241m==\u001B[39m b[:\u001B[38;5;241m-\u001B[39m\u001B[38;5;241m1\u001B[39m]:\n\u001B[0;32m    101\u001B[0m     cand \u001B[38;5;241m=\u001B[39m a[:\u001B[38;5;241m-\u001B[39m\u001B[38;5;241m1\u001B[39m] \u001B[38;5;241m+\u001B[39m \u001B[38;5;28msorted\u001B[39m([a[\u001B[38;5;241m-\u001B[39m\u001B[38;5;241m1\u001B[39m], b[\u001B[38;5;241m-\u001B[39m\u001B[38;5;241m1\u001B[39m]])\n\u001B[0;32m    102\u001B[0m     \u001B[38;5;66;03m# enforce unique feature indices\u001B[39;00m\n",
      "\u001B[1;31mKeyboardInterrupt\u001B[0m: "
     ]
    }
   ],
   "execution_count": 18
  },
  {
   "metadata": {
    "ExecuteTime": {
     "end_time": "2025-10-01T14:06:01.275787900Z",
     "start_time": "2025-10-01T12:11:18.883704Z"
    }
   },
   "cell_type": "code",
   "source": "from FIRM.base.ct_set_fuzzy_rules import SetFuzzyRules",
   "id": "7f6306b717527a5",
   "outputs": [],
   "execution_count": 6
  },
  {
   "metadata": {
    "ExecuteTime": {
     "end_time": "2025-10-01T14:06:01.275787900Z",
     "start_time": "2025-10-01T12:11:18.936148Z"
    }
   },
   "cell_type": "code",
   "source": [
    "M = np.ones((n_operators, n_operators))\n",
    "for i in range(0, n_operators):\n",
    "    for j in range(i + 1, n_operators):\n",
    "        diss_perc = []\n",
    "        for d in range(0, n_datasets):\n",
    "            rules1 = SetFuzzyRules(results[i][d][:]) \n",
    "            rules2 = SetFuzzyRules(results[j][d][:])\n",
    "            diss_perc = diss_perc + [rules1.jaccard_similarity(rules2)]\n",
    "        M[i][j] = round(np.mean(diss_perc),3)"
   ],
   "id": "e9518754a80a49a0",
   "outputs": [],
   "execution_count": 7
  },
  {
   "metadata": {
    "ExecuteTime": {
     "end_time": "2025-10-01T14:06:01.275787900Z",
     "start_time": "2025-10-01T12:11:19.038126Z"
    }
   },
   "cell_type": "code",
   "source": [
    "import seaborn as sns\n",
    "import matplotlib.pyplot as plt\n",
    "import pandas as pd\n",
    "import numpy as np\n",
    "\n",
    "# Data from the table\n",
    "data = {\n",
    "    \"(TP,IY)\": M[0],\n",
    "    \"(TLK,ILK)\": M[1],\n",
    "    \"(TP,ICλH)\": M[2],\n",
    "    \"(TSSλ,ISSλ)\": M[3]\n",
    "}\n",
    "\n",
    "# Row labels\n",
    "index = [\"(TP,IY)\", \"(TLK,ILK)\", \"(TP,ICλH)\", \"(TSSλ,ISSλ)\"]\n",
    "\n",
    "# Create a DataFrame\n",
    "df = pd.DataFrame(data, index=index)\n",
    "\n",
    "# Mask the upper triangle to show only non-redundant values\n",
    "mask = np.triu(np.ones_like(df, dtype=bool), k=1)\n",
    "\n",
    "# Plot the heatmap\n",
    "plt.figure(figsize=(8, 6))\n",
    "sns.heatmap(\n",
    "    df,\n",
    "    annot=True,\n",
    "    cmap=\"coolwarm\",  # Brighter colormap (options: \"viridis\", \"plasma\", \"magma\", \"inferno\")\n",
    "    fmt=\".2f\",  # Display two decimal places\n",
    "    linewidths=0.5,\n",
    "    mask=mask,  # Apply the mask to hide the upper triangle\n",
    "    cbar_kws={\"shrink\": 0.8}\n",
    ")\n",
    "\n",
    "# Show the plot\n",
    "plt.tight_layout()\n",
    "plt.show()"
   ],
   "id": "b22f229ddb38d268",
   "outputs": [
    {
     "data": {
      "text/plain": [
       "<Figure size 800x600 with 2 Axes>"
      ],
      "image/png": "[encoded data removed]"
     },
     "metadata": {},
     "output_type": "display_data"
    }
   ],
   "execution_count": 8
  },
  {
   "metadata": {
    "ExecuteTime": {
     "end_time": "2025-10-01T14:06:01.277039100Z",
     "start_time": "2025-10-01T12:11:19.392023Z"
    }
   },
   "cell_type": "code",
   "source": "",
   "id": "c3f2cb68c2f0454d",
   "outputs": [],
   "execution_count": null
  }
 ],
 "metadata": {
  "kernelspec": {
   "display_name": "Python 3",
   "language": "python",
   "name": "python3"
  },
  "language_info": {
   "codemirror_mode": {
    "name": "ipython",
    "version": 2
   },
   "file_extension": ".py",
   "mimetype": "text/x-python",
   "name": "python",
   "nbconvert_exporter": "python",
   "pygments_lexer": "ipython2",
   "version": "2.7.6"
  }
 },
 "nbformat": 4,
 "nbformat_minor": 5
}
